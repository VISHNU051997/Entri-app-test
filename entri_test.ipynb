{
 "cells": [
  {
   "cell_type": "code",
   "execution_count": 2,
   "metadata": {},
   "outputs": [
    {
     "name": "stdout",
     "output_type": "stream",
     "text": [
      "C:\\Users\\vishnu.pm\\Documents\\user_data_set\n"
     ]
    }
   ],
   "source": [
    "###keep the files in the following directory to run the script\n",
    "cd C:\\\\Users\\\\vishnu.pm\\\\Documents\\\\user_data_set"
   ]
  },
  {
   "cell_type": "code",
   "execution_count": 5,
   "metadata": {},
   "outputs": [
    {
     "name": "stdout",
     "output_type": "stream",
     "text": [
      "{'2021-06-04': {'Total_users_joined': 3, 'Total_first_purchase': 4, 'Total_subscriptions': 13}, '2021-06-05': {'Total_users_joined': 18, 'Total_first_purchase': 11, 'Total_subscriptions': 25}, '2021-06-07': {'Total_first_purchase': 10, 'Total_users_joined': 16, 'Total_subscriptions': 35}, '2021-06-08': {'Total_first_purchase': 10, 'Total_users_joined': 20, 'Total_subscriptions': 38}, '2021-06-06': {'Total_first_purchase': 7, 'Total_users_joined': 13, 'Total_subscriptions': 21}, '2021-06-10': {'Total_first_purchase': 11, 'Total_users_joined': 12, 'Total_subscriptions': 30}, '2021-06-09': {'Total_first_purchase': 16, 'Total_users_joined': 15, 'Total_subscriptions': 22}}\n"
     ]
    }
   ],
   "source": [
    "import pandas as pd\n",
    "\n",
    "\n",
    "\n",
    "plot_dict = {}\n",
    "\n",
    "########## files\n",
    "subscription_file = r'track_subscription_data.csv'\n",
    "purchase_file = r'user_purchase_data.csv'\n",
    "study_card_file = r'user_studycard_data.csv'\n",
    "user_video_file = r'user_video_activity_data.csv'\n",
    "\n",
    "\n",
    "######## date range extraction\n",
    "subscription_data = pd.read_csv(subscription_file,usecols=['user_id','subscription_date'])\n",
    "purchase_data = pd.read_csv(purchase_file,keep_default_na=False)\n",
    "\n",
    "#print(subscription_data['subscription_date'][0])\n",
    "start_date = pd.to_datetime(subscription_data['subscription_date'][0],format='%Y-%m-%d')\n",
    "end_date = start_date + pd.to_timedelta(7,unit='d')\n",
    "\n",
    "\n",
    "######## collect_purchase_data and update plot dict\n",
    "\n",
    "for index, row in purchase_data.iterrows():\n",
    "    # print(plot_dict)\n",
    "    if row[1] and row[2]:\n",
    "        tmp_date1 = pd.to_datetime(row[1], format='%Y-%m-%d')\n",
    "        tmp_date2 = pd.to_datetime(row[2], format='%Y-%m-%d')\n",
    "        if start_date <= tmp_date1 < end_date:\n",
    "            tmp_date1 = str(tmp_date1).split()[0]\n",
    "            if not plot_dict.get(tmp_date1):\n",
    "                plot_dict[tmp_date1]={}\n",
    "            if not plot_dict[tmp_date1].get('Total_users_joined'):\n",
    "                plot_dict[tmp_date1].update({'Total_users_joined': 1})\n",
    "            else:\n",
    "                plot_dict[tmp_date1]['Total_users_joined'] += 1\n",
    "\n",
    "\n",
    "        if start_date <= tmp_date2 < end_date:\n",
    "            tmp_date2 = str(tmp_date2).split()[0]\n",
    "            if not plot_dict.get(tmp_date2):\n",
    "                plot_dict[tmp_date2]= {}\n",
    "            if not plot_dict[tmp_date2].get('Total_first_purchase'):\n",
    "                plot_dict[tmp_date2].update({'Total_first_purchase': 1})\n",
    "            else:\n",
    "                plot_dict[tmp_date2]['Total_first_purchase'] += 1\n",
    "\n",
    "\n",
    "######## collect_Total_subscriptions_data adn update plot dict\n",
    "\n",
    "for index, row in subscription_data.iterrows():\n",
    "    tmp_date = pd.to_datetime(row[1],format='%Y-%m-%d')\n",
    "    if start_date <= tmp_date < end_date:\n",
    "        tmp_date = str(tmp_date).split()[0]\n",
    "        if not plot_dict.get(tmp_date):\n",
    "            plot_dict[tmp_date] = {}\n",
    "        # print(row[0],row[1])\n",
    "        # map_date = str(tmp_date).split()[0]\n",
    "        if not plot_dict[tmp_date].get('Total_subscriptions'):\n",
    "            plot_dict[tmp_date].update({'Total_subscriptions': 1})\n",
    "        else:\n",
    "            plot_dict[tmp_date]['Total_subscriptions'] += 1\n",
    "\n",
    "print(plot_dict)\n"
   ]
  },
  {
   "cell_type": "code",
   "execution_count": null,
   "metadata": {},
   "outputs": [],
   "source": []
  }
 ],
 "metadata": {
  "kernelspec": {
   "display_name": "Python 3",
   "language": "python",
   "name": "python3"
  },
  "language_info": {
   "codemirror_mode": {
    "name": "ipython",
    "version": 3
   },
   "file_extension": ".py",
   "mimetype": "text/x-python",
   "name": "python",
   "nbconvert_exporter": "python",
   "pygments_lexer": "ipython3",
   "version": "3.7.6"
  }
 },
 "nbformat": 4,
 "nbformat_minor": 4
}
